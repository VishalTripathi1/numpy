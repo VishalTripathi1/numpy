{
 "cells": [
  {
   "cell_type": "markdown",
   "id": "70ee5c17",
   "metadata": {},
   "source": [
    "## Numpy Array Operatinos"
   ]
  },
  {
   "cell_type": "code",
   "execution_count": 4,
   "id": "ac91550c",
   "metadata": {},
   "outputs": [],
   "source": [
    "import numpy as np"
   ]
  },
  {
   "cell_type": "code",
   "execution_count": null,
   "id": "9cccd2e2",
   "metadata": {},
   "outputs": [
    {
     "name": "stdout",
     "output_type": "stream",
     "text": [
      "Basic Slicing [3 4 5 6 7]\n",
      "step Slicing [3 5 7]\n",
      "Negative index 7\n"
     ]
    }
   ],
   "source": [
    "arr = np.array([1, 2, 3, 4, 5, 6, 7, 8])\n",
    "print(\"Basic Slicing\", arr[2:7]) # Slicing from index 2 to 6\n",
    "print(\"step Slicing\", arr[2:8:2]) # with gap of 2\n",
    "print(\"Negative index\", arr[-2]) "
   ]
  },
  {
   "cell_type": "markdown",
   "id": "807b741b",
   "metadata": {},
   "source": [
    "### 2D array slicing"
   ]
  },
  {
   "cell_type": "code",
   "execution_count": null,
   "id": "92454f9d",
   "metadata": {},
   "outputs": [
    {
     "name": "stdout",
     "output_type": "stream",
     "text": [
      "Sepecific element 8\n",
      "Entire row [1 2 3]\n",
      "Entire row [4 5 6]\n",
      "Entire row [7 8 9]\n",
      "Entire col [1 4 7]\n",
      "Entire col [2 5 8]\n",
      "Entire col [3 6 9]\n"
     ]
    }
   ],
   "source": [
    "arr_2d = np.array([[1, 2, 3],[4, 5, 6],[7, 8, 9]])\n",
    "print(\"Sepecific element\", arr_2d[2, 1]) # tell what is at the this index.\n",
    "print(\"Entire row\", arr_2d[0])\n",
    "print(\"Entire row\", arr_2d[1])\n",
    "print(\"Entire row\", arr_2d[2])\n",
    "print(\"Entire col\", arr_2d[:, 0]) # this is used to target the columns\n",
    "print(\"Entire col\", arr_2d[:, 1])\n",
    "print(\"Entire col\", arr_2d[:, 2])\n"
   ]
  },
  {
   "cell_type": "markdown",
   "id": "cbe33b39",
   "metadata": {},
   "source": [
    "## Sorting"
   ]
  },
  {
   "cell_type": "code",
   "execution_count": 27,
   "id": "50555d4f",
   "metadata": {},
   "outputs": [
    {
     "name": "stdout",
     "output_type": "stream",
     "text": [
      "Unsorted Array: [3 8 7 6 8 1]\n",
      "Unsorted Array: [1 3 6 7 8 8]\n",
      "Sorted 2d array by column: [[2 1]\n",
      " [2 2]\n",
      " [5 3]]\n",
      "Sorted 2d array by row: [[1 2]\n",
      " [2 5]\n",
      " [2 3]]\n"
     ]
    }
   ],
   "source": [
    "unsorted = np.array([3, 8, 7, 6, 8, 1])\n",
    "print(\"Unsorted Array:\", unsorted)\n",
    "print(\"Unsorted Array:\", np.sort(unsorted))\n",
    "\n",
    "\n",
    "arr_2d_unsorted = np.array([[2, 1], [5, 2], [2, 3]])\n",
    "print(\"Sorted 2d array by column:\", np.sort(arr_2d_unsorted, axis=0)) #sorts cloumn \n",
    "print(\"Sorted 2d array by row:\", np.sort(arr_2d_unsorted, axis=1)) #sorts row\n",
    "\n"
   ]
  },
  {
   "cell_type": "markdown",
   "id": "3a094d5a",
   "metadata": {},
   "source": [
    "### Filter"
   ]
  },
  {
   "cell_type": "code",
   "execution_count": 28,
   "id": "b0ba71dd",
   "metadata": {},
   "outputs": [
    {
     "name": "stdout",
     "output_type": "stream",
     "text": [
      "Even Numbers: [ 2  4  6  8 10]\n"
     ]
    }
   ],
   "source": [
    "numbers = np.array([1, 2, 3, 4, 5, 6, 7, 8 , 9, 10])\n",
    "even_numbers = numbers[numbers % 2 ==0]\n",
    "print(\"Even Numbers:\", even_numbers)"
   ]
  },
  {
   "cell_type": "markdown",
   "id": "c14a256e",
   "metadata": {},
   "source": [
    "## Filter with mask"
   ]
  },
  {
   "cell_type": "code",
   "execution_count": 29,
   "id": "28196b01",
   "metadata": {},
   "outputs": [
    {
     "name": "stdout",
     "output_type": "stream",
     "text": [
      "Numerbs greater than 5 [ 6  7  8  9 10]\n"
     ]
    }
   ],
   "source": [
    "mask = numbers > 5 \n",
    "print(\"Numerbs greater than 5\", numbers[mask])"
   ]
  },
  {
   "cell_type": "markdown",
   "id": "37d785c4",
   "metadata": {},
   "source": [
    "## Fancing indexing vs np.where()"
   ]
  },
  {
   "cell_type": "code",
   "execution_count": null,
   "id": "7d72c85a",
   "metadata": {},
   "outputs": [
    {
     "name": "stdout",
     "output_type": "stream",
     "text": [
      "[1 3 4 5]\n",
      "NP where [ 6  7  8  9 10]\n"
     ]
    }
   ],
   "source": [
    "indices = [0, 2, 3, 4]\n",
    "print(numbers[indices])\n",
    "\n",
    "3 \n",
    "where_result = np.where(numbers > 5)\n",
    "print(\"NP where\", numbers[where_result])\n"
   ]
  },
  {
   "cell_type": "code",
   "execution_count": null,
   "id": "de599392",
   "metadata": {},
   "outputs": [
    {
     "name": "stdout",
     "output_type": "stream",
     "text": [
      "[ 1  2  3  4  5 12 14 16 18 20]\n"
     ]
    }
   ],
   "source": [
    "condition_array = np.where(numbers > 5, numbers * 2, numbers) # where is also used to declare array but with some conditions\n",
    "# np.where(condition, value_if_true, value_if_false) hence the output will be, if number is > 5 then multiplied.\n",
    "print(condition_array)"
   ]
  },
  {
   "cell_type": "code",
   "execution_count": 40,
   "id": "3ce6f068",
   "metadata": {},
   "outputs": [
    {
     "name": "stdout",
     "output_type": "stream",
     "text": [
      "['false' 'false' 'false' 'false' 'false' 'true' 'true' 'true' 'true'\n",
      " 'true']\n"
     ]
    }
   ],
   "source": [
    "condition_array = np.where(numbers > 5, \"true\", \"false\")\n",
    "print(condition_array)"
   ]
  },
  {
   "cell_type": "code",
   "execution_count": null,
   "id": "210dd5f3",
   "metadata": {},
   "outputs": [],
   "source": [
    "if (number > 5 ){\n",
    "    numebers * 2\n",
    "} else {\n",
    "    numbers\n",
    "}\n",
    "# this is how we represent the above \"where\" conditon in If Else form."
   ]
  },
  {
   "cell_type": "markdown",
   "id": "c67392d7",
   "metadata": {},
   "source": [
    "### Adding and Removing Data"
   ]
  },
  {
   "cell_type": "code",
   "execution_count": null,
   "id": "729e1a48",
   "metadata": {},
   "outputs": [
    {
     "name": "stdout",
     "output_type": "stream",
     "text": [
      "[5 7 9]\n",
      "[1 2 3 4 5 6]\n"
     ]
    }
   ],
   "source": [
    "arr1 = np.array([1, 2, 3])\n",
    "arr2 = np.array([4, 5, 6])\n",
    "\n",
    "combiined = arr1 + arr2\n",
    "print(combiined)\n",
    "\n",
    "combiined1 = np.concatenate((arr1, arr2))\n",
    "print(combiined1)"
   ]
  },
  {
   "cell_type": "markdown",
   "id": "011461da",
   "metadata": {},
   "source": [
    "### Arrya Compatibility"
   ]
  },
  {
   "cell_type": "code",
   "execution_count": 47,
   "id": "ef54d82d",
   "metadata": {},
   "outputs": [
    {
     "name": "stdout",
     "output_type": "stream",
     "text": [
      "Compatibility shapes: True\n",
      "Compatibility shapes: False\n"
     ]
    }
   ],
   "source": [
    "a = np.array([1,2,3])\n",
    "b = np.array([4,5,6])\n",
    "c = np.array([7,8,9])\n",
    "d = np.array([11,18,19,29])\n",
    "print(\"Compatibility shapes:\", a.shape == b.shape == c.shape)\n",
    "print(\"Compatibility shapes:\", a.shape == b.shape == c.shape == d.shape)"
   ]
  },
  {
   "cell_type": "code",
   "execution_count": 56,
   "id": "f3c0f2f4",
   "metadata": {},
   "outputs": [
    {
     "name": "stdout",
     "output_type": "stream",
     "text": [
      "[[1 2]\n",
      " [3 4]]\n",
      "New array: [[1 2]\n",
      " [3 4]\n",
      " [5 6]]\n",
      "New Col: [[1 2 7]\n",
      " [3 4 8]]\n"
     ]
    }
   ],
   "source": [
    "original = np.array([[1,2], [3,4]])\n",
    "new_row = np.array([[5,6]])\n",
    "\n",
    "result = np.vstack([original, new_row]) # add newrows\n",
    "\n",
    "\n",
    "print(original) \n",
    "print(\"New array:\", result)\n",
    "\n",
    "new_col = np.array([[7],[8]])\n",
    "result1 = np.hstack([original, new_col])\n",
    "print(\"New Col:\", result1)"
   ]
  },
  {
   "cell_type": "code",
   "execution_count": 57,
   "id": "735d4ee4",
   "metadata": {},
   "outputs": [
    {
     "name": "stdout",
     "output_type": "stream",
     "text": [
      "[1 2 4 5 6]\n"
     ]
    }
   ],
   "source": [
    "# Deletion of the array\n",
    "\n",
    "array = np.array([1,2,3,4,5,6])\n",
    "deleted = np.delete(array, 2)\n",
    "print(deleted)"
   ]
  }
 ],
 "metadata": {
  "kernelspec": {
   "display_name": "venv",
   "language": "python",
   "name": "python3"
  },
  "language_info": {
   "codemirror_mode": {
    "name": "ipython",
    "version": 3
   },
   "file_extension": ".py",
   "mimetype": "text/x-python",
   "name": "python",
   "nbconvert_exporter": "python",
   "pygments_lexer": "ipython3",
   "version": "3.11.0"
  }
 },
 "nbformat": 4,
 "nbformat_minor": 5
}
