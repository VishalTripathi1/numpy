{
 "cells": [
  {
   "cell_type": "markdown",
   "id": "0241e8ed",
   "metadata": {},
   "source": [
    "## Numpy array and basics\n"
   ]
  },
  {
   "cell_type": "code",
   "execution_count": 1,
   "id": "ee96a6a0",
   "metadata": {},
   "outputs": [],
   "source": [
    "import numpy as np"
   ]
  },
  {
   "cell_type": "markdown",
   "id": "6fc1c91b",
   "metadata": {},
   "source": [
    "### creating array from list"
   ]
  },
  {
   "cell_type": "code",
   "execution_count": 2,
   "id": "edd7c0e5",
   "metadata": {},
   "outputs": [
    {
     "name": "stdout",
     "output_type": "stream",
     "text": [
      "1D Array: [1 2 3 4 5]\n",
      "2D Array:\n",
      " [[1 2 3]\n",
      " [4 5 6]]\n"
     ]
    }
   ],
   "source": [
    "arr_1d = np.array([1, 2, 3, 4, 5])\n",
    "print(\"1D Array:\", arr_1d)\n",
    "\n",
    "arr_2d = np.array([[1, 2, 3], [4, 5, 6]])\n",
    "print(\"2D Array:\\n\", arr_2d)\n"
   ]
  },
  {
   "cell_type": "markdown",
   "id": "4bbb9179",
   "metadata": {},
   "source": [
    "### List vs numpy array"
   ]
  },
  {
   "cell_type": "code",
   "execution_count": 4,
   "id": "96f524e1",
   "metadata": {},
   "outputs": [
    {
     "name": "stdout",
     "output_type": "stream",
     "text": [
      "Python List multiplication : [1, 2, 3, 4, 5, 1, 2, 3, 4, 5]\n",
      "Numpy Array multiplication : [ 2  4  6  8 10]\n",
      "\n",
      " Python List Time: 0.034404754638671875\n",
      "\n",
      " Numpy Array Time: 0.0028247833251953125\n"
     ]
    }
   ],
   "source": [
    "py_list = [1, 2, 3, 4, 5]\n",
    "print(\"Python List multiplication :\", py_list * 2)\n",
    "\n",
    "np_array = np.array([1, 2, 3, 4, 5]) #element-wise multiplication\n",
    "print(\"Numpy Array multiplication :\", np_array * 2)\n",
    "\n",
    "import time\n",
    "start = time.time()\n",
    "py_list = [i*2 for i in range(1000000)]\n",
    "print(\"\\n Python List Time:\", time.time() - start)\n",
    "\n",
    "\n",
    "start = time.time()\n",
    "np_array = np.arange(1000000) * 2\n",
    "print(\"\\n Numpy Array Time:\", time.time() - start)\n",
    "\n"
   ]
  },
  {
   "cell_type": "markdown",
   "id": "310e5f5c",
   "metadata": {},
   "source": [
    "### creatign array from scratch"
   ]
  },
  {
   "cell_type": "code",
   "execution_count": null,
   "id": "f47c0cf3",
   "metadata": {},
   "outputs": [
    {
     "name": "stdout",
     "output_type": "stream",
     "text": [
      "Zeros Array:\n",
      " [[0. 0. 0. 0.]\n",
      " [0. 0. 0. 0.]\n",
      " [0. 0. 0. 0.]]\n",
      "Ones Array:\n",
      " [[1. 1. 1.]\n",
      " [1. 1. 1.]]\n",
      "Full Array:\n",
      " [[7 7]\n",
      " [7 7]]\n",
      "Random Array:\n",
      " [[0.41450912 0.88195053 0.03171652]\n",
      " [0.44530847 0.20965901 0.34667667]]\n",
      "Sequence Array: [0 2 4 6 8]\n"
     ]
    }
   ],
   "source": [
    "zeros = np.zeros((3, 4))\n",
    "print(\"Zeros Array:\\n\", zeros)\n",
    "\n",
    "ones = np.ones((2, 3))\n",
    "print(\"Ones Array:\\n\", ones)\n",
    "\n",
    "full = np.full((2, 2), 7) # 2*2 array filled with 7\n",
    "print(\"Full Array:\\n\", full)\n",
    "\n",
    "random = np.random.random((2, 3)) # 2*3 array with random values\n",
    "print(\"Random Array:\\n\", random)\n",
    "\n",
    "sequence = np.arange(0, 10, 2) # 1D array with values from 0 to 9 , 2 is the step(gap)\n",
    "print(\"Sequence Array:\", sequence)\n",
    "\n",
    "\n"
   ]
  },
  {
   "cell_type": "markdown",
   "id": "3809ad83",
   "metadata": {},
   "source": [
    "### Vector, Matrix and Tensor"
   ]
  },
  {
   "cell_type": "code",
   "execution_count": 27,
   "id": "f76feed9",
   "metadata": {},
   "outputs": [
    {
     "name": "stdout",
     "output_type": "stream",
     "text": [
      "Vector: [1 2 3]\n",
      "Matrix:\n",
      " [[1 2]\n",
      " [3 4]]\n",
      "Tensor:\n",
      " [[[1 2]\n",
      "  [3 4]]\n",
      "\n",
      " [[5 6]\n",
      "  [7 8]]]\n"
     ]
    }
   ],
   "source": [
    "vector = np.array([1, 2, 3]) # 1D array\n",
    "print(\"Vector:\", vector)\n",
    "\n",
    "matrix = np.array([[1, 2], [3, 4]]) # 2D array\n",
    "print(\"Matrix:\\n\", matrix)\n",
    "\n",
    "tensor = np.array([[[1, 2], [3, 4]], [[5, 6], [7, 8]]]) # 3D array\n",
    "print(\"Tensor:\\n\", tensor)"
   ]
  },
  {
   "cell_type": "markdown",
   "id": "7dd123e1",
   "metadata": {},
   "source": [
    "## Array Properties"
   ]
  },
  {
   "cell_type": "code",
   "execution_count": 31,
   "id": "a474b2d2",
   "metadata": {},
   "outputs": [
    {
     "name": "stdout",
     "output_type": "stream",
     "text": [
      "Array shape:\n",
      " (2, 3)\n",
      "Array dimensions: 2\n",
      "Array size: 6\n",
      "Array data type: int64\n"
     ]
    }
   ],
   "source": [
    "arr = np.array([[1, 2, 3], [4, 5, 6]])\n",
    "print(\"Array shape:\\n\", arr.shape)\n",
    "print(\"Array dimensions:\", arr.ndim)\n",
    "print(\"Array size:\", arr.size)\n",
    "print(\"Array data type:\", arr.dtype)"
   ]
  },
  {
   "cell_type": "markdown",
   "id": "16e4e498",
   "metadata": {},
   "source": [
    "### Array Reshaping"
   ]
  },
  {
   "cell_type": "code",
   "execution_count": 40,
   "id": "fd5c298b",
   "metadata": {},
   "outputs": [
    {
     "name": "stdout",
     "output_type": "stream",
     "text": [
      "Original Array:\n",
      " [ 0  1  2  3  4  5  6  7  8  9 10 11]\n",
      "Reshaped Array:\n",
      " [[ 0  1  2  3]\n",
      " [ 4  5  6  7]\n",
      " [ 8  9 10 11]]\n",
      "Flattened Array: [ 0  1  2  3  4  5  6  7  8  9 10 11]\n",
      "Raveled Array: [ 0  1  2  3  4  5  6  7  8  9 10 11]\n",
      "Transposed Array:\n",
      " [[ 0  4  8]\n",
      " [ 1  5  9]\n",
      " [ 2  6 10]\n",
      " [ 3  7 11]]\n"
     ]
    }
   ],
   "source": [
    "arr = np.arange(12)\n",
    "print(\"Original Array:\\n\", arr)\n",
    "\n",
    "reshaped = arr.reshape((3, 4)) # Reshape to 3 rows and 4 columns\n",
    "print(\"Reshaped Array:\\n\", reshaped)\n",
    "\n",
    "flattened = reshaped.flatten() # Flatten the array to 1D\n",
    "print(\"Flattened Array:\", flattened)\n",
    "\n",
    "# ravel (returns view, instead of copy) it do not change the original array.\n",
    "raveled = reshaped.ravel() # Return a contiguous flattened array\n",
    "print(\"Raveled Array:\", raveled)\n",
    "\n",
    "# Transpose the array\n",
    "transposed = reshaped.T # Transpose the array\n",
    "print(\"Transposed Array:\\n\", transposed)\n"
   ]
  }
 ],
 "metadata": {
  "kernelspec": {
   "display_name": "venv",
   "language": "python",
   "name": "python3"
  },
  "language_info": {
   "codemirror_mode": {
    "name": "ipython",
    "version": 3
   },
   "file_extension": ".py",
   "mimetype": "text/x-python",
   "name": "python",
   "nbconvert_exporter": "python",
   "pygments_lexer": "ipython3",
   "version": "3.11.0"
  }
 },
 "nbformat": 4,
 "nbformat_minor": 5
}
